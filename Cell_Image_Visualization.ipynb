{
  "nbformat": 4,
  "nbformat_minor": 0,
  "metadata": {
    "colab": {
      "provenance": [],
      "authorship_tag": "ABX9TyP0XTfZvwX059NC+4j/ao9H",
      "include_colab_link": true
    },
    "kernelspec": {
      "name": "python3",
      "display_name": "Python 3"
    },
    "language_info": {
      "name": "python"
    }
  },
  "cells": [
    {
      "cell_type": "markdown",
      "metadata": {
        "id": "view-in-github",
        "colab_type": "text"
      },
      "source": [
        "<a href=\"https://colab.research.google.com/github/Yuhan0524/TDAforcell/blob/main/Cell_Image_Visualization.ipynb\" target=\"_parent\"><img src=\"https://colab.research.google.com/assets/colab-badge.svg\" alt=\"Open In Colab\"/></a>"
      ]
    },
    {
      "cell_type": "code",
      "execution_count": null,
      "metadata": {
        "id": "31vu6g6ruSh_"
      },
      "outputs": [],
      "source": [
        "import numpy as np\n",
        "class Real_Distance:\n",
        "  def real_euclidean_distance(point1, point2):\n",
        "      return np.sqrt((point1[0] - point2[0])**2 + (point1[1] - point2[1])**2)\n",
        "  def calculate_distance_matrix(point_cloud):\n",
        "      num_points = len(point_cloud)\n",
        "      distance_matrix = np.zeros((num_points, num_points))\n",
        "\n",
        "      for i in range(num_points):\n",
        "          for j in range(i + 1, num_points):\n",
        "              distance = Real_Distance.real_euclidean_distance(point_cloud[i][:2], point_cloud[j][:2])\n",
        "              distance_matrix[i, j] = distance\n",
        "              distance_matrix[j, i] = distance\n",
        "\n",
        "      return distance_matrix"
      ]
    },
    {
      "cell_type": "code",
      "source": [
        "class Find_Pairs:\n",
        "    @staticmethod\n",
        "    def find_pairs_within_epsilon(distance_matrix, epsilon):\n",
        "        num_points = distance_matrix.shape[0]\n",
        "        indices = np.arange(num_points)\n",
        "        labels_dict = {}\n",
        "\n",
        "        for i in range(num_points):\n",
        "            mask = distance_matrix[i, i+1:] <= epsilon\n",
        "            labels = indices[i+1:][mask].tolist()\n",
        "            if labels:\n",
        "                labels_dict[i] = labels\n",
        "\n",
        "        return labels_dict"
      ],
      "metadata": {
        "id": "QQGJzGBguYgg"
      },
      "execution_count": null,
      "outputs": []
    },
    {
      "cell_type": "code",
      "source": [
        "class Get_Weight:\n",
        "    @staticmethod\n",
        "    def calculate_distances(point_cloud):\n",
        "        num_points = len(point_cloud)\n",
        "        distances = np.zeros((num_points, num_points))\n",
        "\n",
        "        for i in range(num_points):\n",
        "            for j in range(i + 1, num_points):\n",
        "                distance = np.linalg.norm(np.array(point_cloud[i][2:-1]) - np.array(point_cloud[j][2:-1]))\n",
        "                distances[i, j] = distance\n",
        "                distances[j, i] = distance\n",
        "        return distances\n",
        "\n",
        "    def rescale_distance(point_cloud, numberoffeature):\n",
        "        distance_matrix = Get_Weight.calculate_distances(point_cloud, numberoffeature)\n",
        "        max_distance = np.max(distance_matrix)\n",
        "        rescaled_matrix = distance_matrix - max_distance\n",
        "        rescaled_matrix /= -max_distance\n",
        "        rescaled_matrix = 2 * rescaled_matrix - 1\n",
        "        return rescaled_matrix"
      ],
      "metadata": {
        "id": "IeVqKA7XuYjZ"
      },
      "execution_count": null,
      "outputs": []
    },
    {
      "cell_type": "code",
      "source": [
        "class Graph:\n",
        "    @staticmethod\n",
        "    def generate_adjacency_matrix(connected_nodes, distance_matrix):\n",
        "        num_nodes = len(distance_matrix)\n",
        "        adjacency_matrix = np.full((num_nodes, num_nodes), np.inf)\n",
        "\n",
        "        for node, connected in connected_nodes.items():\n",
        "            adjacency_matrix[node, connected] = distance_matrix[node, connected]\n",
        "            adjacency_matrix[connected, node] = distance_matrix[node, connected]\n",
        "\n",
        "        np.fill_diagonal(adjacency_matrix, 0)\n",
        "        return adjacency_matrix"
      ],
      "metadata": {
        "id": "UKMG7bnpuYoX"
      },
      "execution_count": null,
      "outputs": []
    },
    {
      "cell_type": "code",
      "source": [
        "class Choose_Connection:\n",
        "  def connectunderthreshold(adjacency_matrix, threshold, a):\n",
        "    labels_dict = {}\n",
        "    num_points = adjacency_matrix.shape[0]\n",
        "    for i in range(num_points):\n",
        "      labels = []\n",
        "      for j in range(i + 1, num_points):\n",
        "        if a == \"above\":\n",
        "          if 100000 > adjacency_matrix[i, j] >= threshold: #choose the one above the threshold\n",
        "            labels.append(j)\n",
        "        if a == \"below\":\n",
        "          if adjacency_matrix[i,j] <= threshold: #choose the one below the threshold\n",
        "            labels.append(j)\n",
        "      if labels:\n",
        "        labels_dict[i] = labels\n",
        "\n",
        "    return labels_dict"
      ],
      "metadata": {
        "id": "zIT1S6isuYrX"
      },
      "execution_count": null,
      "outputs": []
    },
    {
      "cell_type": "code",
      "source": [
        "import pandas as pd\n",
        "import numpy as np\n",
        "\n",
        "data_1 = pd.read_csv(\"/content/drive/MyDrive/GIS/A_cell_table_size_normalized.csv\")\n",
        "data1 = data_1[data_1['fov'] == '2022-12-03T15-18-19_BIGFISH1_pA_s1_R10C5']\n",
        "X1_coor = data1[[\"centroid-0\", \"centroid-1\"]].values\n",
        "overlapping_markers = data1.columns[2:48]\n",
        "Y1 = data1[overlapping_markers].values\n",
        "point_cloud_ini = np.concatenate((X1_coor, Y1), axis=1)\n",
        "point_cloud = [(*row, i) for i, row in enumerate(point_cloud_ini)]"
      ],
      "metadata": {
        "id": "e3BN-c2guYuG"
      },
      "execution_count": null,
      "outputs": []
    },
    {
      "cell_type": "code",
      "source": [
        "#generate the distance matrix first\n",
        "distance_matrix = Real_Distance.calculate_distance_matrix(point_cloud)\n",
        "#dissimilarity_matrix = Get_Weight.rescale_distance(point_cloud)\n",
        "dissimilarity_matrix = Get_Weight.calculate_distances(point_cloud)"
      ],
      "metadata": {
        "id": "v-qIKY4-uiCk"
      },
      "execution_count": null,
      "outputs": []
    },
    {
      "cell_type": "code",
      "source": [
        "#change the epsilon value accordingly, which represents the maximum distance between 2 connected cells\n",
        "#if a fully connected image is required (all the cells within the distance are connected, without filtering the dissimilarity), use the next line only\n",
        "labels_within_epsilon = Find_Pairs.find_pairs_within_epsilon(distance_matrix, 60)\n",
        "\n",
        "#If a filtration for dissimialrity is needed, please un-command the following\n",
        "\n",
        "#connected_nodes = labels_within_epsilon\n",
        "#dissimilarity_matrix = np.array(dissimilarity_matrix)\n",
        "#adjacency_matrix = Graph.generate_adjacency_matrix(connected_nodes, dissimilarity_matrix)\n",
        "#newlabel = Choose_Connection.connectunderthreshold(adjacency_matrix, 0.99, \"above\") #whether to filter \"above\"/\"below\" the threshold can change in the Choose_Connection.connectunderthreshold function directly"
      ],
      "metadata": {
        "id": "YOOppYpKuiGF"
      },
      "execution_count": null,
      "outputs": []
    },
    {
      "cell_type": "code",
      "source": [
        "import matplotlib.pyplot as plt\n",
        "import matplotlib.collections as collections\n",
        "import numpy as np\n",
        "\n",
        "line_segments = []\n",
        "points = []\n",
        "point_to_segments = {}\n",
        "\n",
        "#if a visualization including filtration of disimilarity is needed, use the newlabel one and command the line \"for node, connected in labels_within_epsilon.items():\"; else just directly run the code\n",
        "#for node, connected in newlabel.items():\n",
        "for node, connected in labels_within_epsilon.items():\n",
        "    coor = point_cloud[node][:2]\n",
        "    for connected_node in connected:\n",
        "        connected_coor = point_cloud[connected_node][:2]\n",
        "        line_segments.append([coor, connected_coor])\n",
        "        points.append(coor)\n",
        "        points.append(connected_coor)\n",
        "        if coor not in point_to_segments:\n",
        "            point_to_segments[coor] = []\n",
        "        point_to_segments[coor].append(connected_coor)\n",
        "\n",
        "line_segments_1 = np.array(line_segments)\n",
        "points = np.array(points)\n",
        "\n",
        "triangles = []\n",
        "for segment in line_segments:\n",
        "    p1, p2 = segment\n",
        "\n",
        "    if p1 in point_to_segments and p2 in point_to_segments:\n",
        "        connected_segments_p1 = point_to_segments[p1]\n",
        "        connected_segments_p2 = point_to_segments[p2]\n",
        "\n",
        "        for seg_p1 in connected_segments_p1:\n",
        "            for seg_p2 in connected_segments_p2:\n",
        "                if seg_p1[0] == seg_p2[0]:\n",
        "                    triangles.append([p1, p2, seg_p1])\n",
        "\n",
        "poly_collection = collections.PolyCollection(triangles, facecolors='orange')\n",
        "\n",
        "plt.figure(figsize=(24, 24))\n",
        "\n",
        "plt.plot(line_segments_1[:, :, 0].T, line_segments_1[:, :, 1].T, 'k-')\n",
        "plt.scatter(points[:, 0], points[:, 1], color='blue', marker='o')\n",
        "plt.gca().add_collection(poly_collection)\n",
        "\n",
        "plt.xlim(0, 1024)  # Adjust the x-axis limits as needed\n",
        "plt.ylim(0, 1024)  # Adjust the y-axis limits as needed\n",
        "plt.xlabel('X')\n",
        "plt.ylabel('Y')\n",
        "\n",
        "plt.show()"
      ],
      "metadata": {
        "id": "q0QJpVh3uiI0"
      },
      "execution_count": null,
      "outputs": []
    }
  ]
}